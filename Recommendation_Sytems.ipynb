{
  "nbformat": 4,
  "nbformat_minor": 0,
  "metadata": {
    "colab": {
      "name": "Recommendation_Sytems.ipynb",
      "provenance": [],
      "authorship_tag": "ABX9TyOIgwfWdTTOtLyNtjaukP4+",
      "include_colab_link": true
    },
    "kernelspec": {
      "name": "python3",
      "display_name": "Python 3"
    }
  },
  "cells": [
    {
      "cell_type": "markdown",
      "metadata": {
        "id": "view-in-github",
        "colab_type": "text"
      },
      "source": [
        "<a href=\"https://colab.research.google.com/github/bhargavreddy111/Recommendation-Systems/blob/master/Recommendation_Sytems.ipynb\" target=\"_parent\"><img src=\"https://colab.research.google.com/assets/colab-badge.svg\" alt=\"Open In Colab\"/></a>"
      ]
    },
    {
      "cell_type": "code",
      "metadata": {
        "id": "bJhOJIf2VCY-",
        "colab_type": "code",
        "colab": {
          "base_uri": "https://localhost:8080/",
          "height": 141
        },
        "outputId": "2f977dd0-e45c-4391-e9a8-a4ec9e1415bf"
      },
      "source": [
        "import math\n",
        "from operator import itemgetter\n",
        "\n",
        "import warnings\n",
        "warnings.filterwarnings(\"ignore\")\n",
        "\n",
        "\n",
        "from google.colab import drive\n",
        "drive.mount('/gdrive')\n",
        "#Change current working directory to gdrive\n",
        "%cd /gdrive"
      ],
      "execution_count": 1,
      "outputs": [
        {
          "output_type": "stream",
          "text": [
            "Go to this URL in a browser: https://accounts.google.com/o/oauth2/auth?client_id=947318989803-6bn6qk8qdgf4n4g3pfee6491hc0brc4i.apps.googleusercontent.com&redirect_uri=urn%3aietf%3awg%3aoauth%3a2.0%3aoob&response_type=code&scope=email%20https%3a%2f%2fwww.googleapis.com%2fauth%2fdocs.test%20https%3a%2f%2fwww.googleapis.com%2fauth%2fdrive%20https%3a%2f%2fwww.googleapis.com%2fauth%2fdrive.photos.readonly%20https%3a%2f%2fwww.googleapis.com%2fauth%2fpeopleapi.readonly\n",
            "\n",
            "Enter your authorization code:\n",
            "··········\n",
            "Mounted at /gdrive\n",
            "/gdrive\n"
          ],
          "name": "stdout"
        }
      ]
    },
    {
      "cell_type": "code",
      "metadata": {
        "id": "hSLdIGjvXKXP",
        "colab_type": "code",
        "colab": {}
      },
      "source": [
        "class similarity:\n",
        "    \n",
        "   \n",
        "    def __init__ (self, ratingP, ratingQ):\n",
        "        self.ratings1 = ratingP\n",
        "        self.ratings2 = ratingQ\n",
        "\n",
        "    \n",
        "    def minkowski(self, r):\n",
        "    \n",
        "        \n",
        "        distance = 0       \n",
        "        for k in (set(self.ratings1.keys()) & set(self.ratings2.keys())):\n",
        "            p = self.ratings1[k]\n",
        "            q = self.ratings2[k]\n",
        "            distance += pow(abs(p - q), r)\n",
        "    \n",
        "        \n",
        "        return pow(distance,1/r)\n",
        "\n",
        "    \n",
        "    def pearson(self):\n",
        "        \n",
        "\n",
        "        n=len((set(self.ratings1.keys()) & set(self.ratings2.keys())))\n",
        "       \n",
        "\n",
        "        if n==0:\n",
        "            return -2\n",
        "         \n",
        "\n",
        "        a=0\n",
        "        b=0\n",
        "        c=0\n",
        "        d=0\n",
        "        e=0\n",
        "        for k in (set(self.ratings1.keys()) & set(self.ratings2.keys())):\n",
        "            \n",
        "            a+=self.ratings1[k]*self.ratings2[k]\n",
        "            \n",
        "            \n",
        "            b+=self.ratings1[k]\n",
        "            \n",
        "            \n",
        "            c+=self.ratings2[k]\n",
        "            \n",
        "            \n",
        "            d+=self.ratings1[k]**2\n",
        "            \n",
        "           \n",
        "            e+=self.ratings2[k]**2\n",
        "            \n",
        "            \n",
        "\n",
        "        num=a-((b*c)/n)\n",
        "            \n",
        "\n",
        "        den=math.sqrt(d-((b**2)/n))*math.sqrt(e-((c**2/n)))\n",
        "        \n",
        "\n",
        "        if den==0:\n",
        "            return -2\n",
        "\n",
        "        pc=num/den\n",
        "        return pc"
      ],
      "execution_count": 0,
      "outputs": []
    },
    {
      "cell_type": "code",
      "metadata": {
        "id": "I8YiKM8tYrdF",
        "colab_type": "code",
        "colab": {}
      },
      "source": [
        "songData = {\"Angelica\": {\"Blues Traveler\": 3.5, \"Broken Bells\": 2.0, \"Norah Jones\": 4.5, \"Phoenix\": 5.0, \"Slightly Stoopid\": 1.5, \"The Strokes\": 2.5, \"Vampire Weekend\": 2.0},\n",
        "         \"Bill\":{\"Blues Traveler\": 2.0, \"Broken Bells\": 3.5, \"Deadmau5\": 4.0, \"Phoenix\": 2.0, \"Slightly Stoopid\": 3.5, \"Vampire Weekend\": 3.0},\n",
        "         \"Chan\": {\"Blues Traveler\": 5.0, \"Broken Bells\": 1.0, \"Deadmau5\": 1.0, \"Norah Jones\": 3.0, \"Phoenix\": 5, \"Slightly Stoopid\": 1.0},\n",
        "         \"Dan\": {\"Blues Traveler\": 3.0, \"Broken Bells\": 4.0, \"Deadmau5\": 4.5, \"Phoenix\": 3.0, \"Slightly Stoopid\": 4.5, \"The Strokes\": 4.0, \"Vampire Weekend\": 2.0},\n",
        "         \"Hailey\": {\"Broken Bells\": 4.0, \"Deadmau5\": 1.0, \"Norah Jones\": 4.0, \"The Strokes\": 4.0, \"Vampire Weekend\": 1.0},\n",
        "         \"Jordyn\":  {\"Broken Bells\": 4.5, \"Deadmau5\": 4.0, \"Norah Jones\": 5.0, \"Phoenix\": 5.0, \"Slightly Stoopid\": 4.5, \"The Strokes\": 4.0, \"Vampire Weekend\": 4.0},\n",
        "         \"Sam\": {\"Blues Traveler\": 5.0, \"Broken Bells\": 2.0, \"Norah Jones\": 3.0, \"Phoenix\": 5.0, \"Slightly Stoopid\": 4.0, \"The Strokes\": 5.0},\n",
        "         \"Veronica\": {\"Blues Traveler\": 3.0, \"Norah Jones\": 5.0, \"Phoenix\": 4.0, \"Slightly Stoopid\": 2.5, \"The Strokes\": 3.0}\n",
        "        }\n"
      ],
      "execution_count": 0,
      "outputs": []
    },
    {
      "cell_type": "code",
      "metadata": {
        "id": "8xEiaZw-YvXF",
        "colab_type": "code",
        "colab": {}
      },
      "source": [
        "userX = \"Veronica\"\n",
        "userXRatings = songData[userX]"
      ],
      "execution_count": 0,
      "outputs": []
    },
    {
      "cell_type": "code",
      "metadata": {
        "id": "ozIsgD5cYyyo",
        "colab_type": "code",
        "colab": {}
      },
      "source": [
        "userSimilarities=[]\n",
        "for key in songData.keys():  \n",
        "    if key==userX:\n",
        "        continue\n",
        "    userYRatings=songData[key]\n",
        "    sc= similarity(userXRatings, userYRatings)\n",
        "    value=sc.pearson()\n",
        "    userSimilarities.append((key,value))"
      ],
      "execution_count": 0,
      "outputs": []
    },
    {
      "cell_type": "code",
      "metadata": {
        "id": "iXcgV_JaY2HF",
        "colab_type": "code",
        "colab": {}
      },
      "source": [
        "sortedUserSimilarities=sorted(userSimilarities,key= itemgetter(1), reverse=True)"
      ],
      "execution_count": 0,
      "outputs": []
    },
    {
      "cell_type": "code",
      "metadata": {
        "id": "c7Ea2BvfY5Cd",
        "colab_type": "code",
        "colab": {}
      },
      "source": [
        "userXNN=sortedUserSimilarities[0][0]"
      ],
      "execution_count": 0,
      "outputs": []
    },
    {
      "cell_type": "code",
      "metadata": {
        "id": "c8T2X8uuY77k",
        "colab_type": "code",
        "colab": {}
      },
      "source": [
        "recoset=set(songData[userXNN].keys())-set(songData[userX].keys())\n",
        "userXRecos=[]\n",
        "for key in recoset:\n",
        "    userXRecos.append((key,songData[userXNN][key]))"
      ],
      "execution_count": 0,
      "outputs": []
    },
    {
      "cell_type": "code",
      "metadata": {
        "id": "8oEOrqhcY_ir",
        "colab_type": "code",
        "colab": {
          "base_uri": "https://localhost:8080/",
          "height": 87
        },
        "outputId": "4ff43fc5-f0cb-4267-eaca-b155f79575ba"
      },
      "source": [
        "userXSortedRecos=sorted(userXRecos,key= itemgetter(1), reverse=True)\n",
        "\n",
        "print (\"Recommendations for\", userX)\n",
        "print (\"--------------------------\")\n",
        "print ()\n",
        "print (userXSortedRecos)"
      ],
      "execution_count": 9,
      "outputs": [
        {
          "output_type": "stream",
          "text": [
            "Recommendations for Veronica\n",
            "--------------------------\n",
            "\n",
            "[('Broken Bells', 2.0), ('Vampire Weekend', 2.0)]\n"
          ],
          "name": "stdout"
        }
      ]
    }
  ]
}